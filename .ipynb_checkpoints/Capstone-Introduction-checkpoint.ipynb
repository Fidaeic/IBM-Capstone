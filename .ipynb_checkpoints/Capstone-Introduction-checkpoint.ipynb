{
 "cells": [
  {
   "cell_type": "markdown",
   "metadata": {},
   "source": [
    "# 1. Introduction/Business problem"
   ]
  },
  {
   "cell_type": "markdown",
   "metadata": {},
   "source": [
    "This project is intended to study the most popular food venues of the city of Málaga (Spain) in order to decide which is the most frequent category, in which neighbourhoods are more likely to be found, and what are the prefered venues, according to their ratings.\n",
    "\n",
    "Before choosing the problem above described, a little research has been conducted in order to decide the following items:\n",
    "\n",
    "1. What kind of data can we retrieve from Foursquare and how many calls are we allowes to make to the API?\n",
    "2. Since I live in Spain and I wanted to study a Spanish city, what are the main sources of open data available?\n",
    "3. Is the available information enough to carry a study related to geolocated venues?\n",
    "\n",
    "These questions will be answered in the following section."
   ]
  },
  {
   "cell_type": "markdown",
   "metadata": {},
   "source": [
    "# 2. Data"
   ]
  },
  {
   "cell_type": "markdown",
   "metadata": {},
   "source": [
    "## 2.1. Sources"
   ]
  },
  {
   "cell_type": "markdown",
   "metadata": {},
   "source": [
    "In order to find out what are the prefered and most frequent food venues, and whether if there are any coincidences in the results, the following data has been used:\n",
    "\n",
    "1. **Foursquare data retrieved from the \"explore\" endpoint.** We can get the following information:\n",
    "    * Name of the venue.\n",
    "    * Location (latitude and longitude).\n",
    "    * Category.\n",
    "    \n",
    "There is a limit of 99.500 calls/day, which is a broad limit given the amount of data that is going to take to carry the project\n",
    "\n",
    "2. **Foursquare data retrieved from the \"details\" endpoint.** The following information will be used:\n",
    "    * Name of the venue.\n",
    "    * Rating.\n",
    "    * Count of likes.\n",
    "    \n",
    "In this case, the number of calls is much more limited, since a Personal account has only 500 calls/day.\n",
    "\n",
    "3. **Geospatial data from the open data platform of the City Hall of Málaga.** The data is available if .shp format, wich contained the outline of the neighbourhoods of the city. With the help of the software QGIS, the centroids of the polygons have been calculated and their coordinates have been exported in .json format, in order to work with them easily with the json package. \n",
    "\n",
    "The reason why the city of Málaga was chosen is because it is one of the few Spanish cities that has an open data portal with geospatial data. Moreover, it is a very touristic city, which means that there is a great number of restauration venues that are likely to be rated by customers."
   ]
  },
  {
   "cell_type": "markdown",
   "metadata": {},
   "source": [
    "## 2.2. Process of work"
   ]
  },
  {
   "cell_type": "markdown",
   "metadata": {},
   "source": [
    "The process will consist of two parts with the following breakdown:\n",
    "\n",
    "### Part I\n",
    "\n",
    "1. Download and transformation of data from the City Hall of Málaga.\n",
    "1. Download of data from Foursquare using the \"explore\" endpoint to obtain venues from the different neighbourhoods, filtering by category to get only food venues.\n",
    "1. Obtention of the clusters in which the recommended venues can be put with the k-cluster method.\n",
    "1. Discussion of the results obtained (relation between location of the neighbourhood and most frequent venues, most frequent clusters, etc)\n",
    "\n",
    "### Part II\n",
    "\n",
    "1. Restriction of the data obtained earlier to a maximum sample of 1.500 venues, setting a threshold of 20 venues/neighbourhood to drop neighbourhoods with low density of venues.\n",
    "1. Download of data from Foursquare using the \"details\" endpoint to get the ratings and the count of likes associated to each venue.\n",
    "1. Discussion of the prefered food venues according to the count of likes and the overall rating."
   ]
  },
  {
   "cell_type": "code",
   "execution_count": null,
   "metadata": {},
   "outputs": [],
   "source": []
  }
 ],
 "metadata": {
  "kernelspec": {
   "display_name": "Python 3",
   "language": "python",
   "name": "python3"
  },
  "language_info": {
   "codemirror_mode": {
    "name": "ipython",
    "version": 3
   },
   "file_extension": ".py",
   "mimetype": "text/x-python",
   "name": "python",
   "nbconvert_exporter": "python",
   "pygments_lexer": "ipython3",
   "version": "3.7.3"
  }
 },
 "nbformat": 4,
 "nbformat_minor": 2
}
